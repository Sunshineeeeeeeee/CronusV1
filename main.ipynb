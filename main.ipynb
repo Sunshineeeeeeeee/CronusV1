{
 "cells": [
  {
   "cell_type": "markdown",
   "metadata": {},
   "source": [
    "### Load dataframe"
   ]
  },
  {
   "cell_type": "code",
   "execution_count": 1,
   "metadata": {},
   "outputs": [],
   "source": [
    "import pandas as pd\n",
    "import numpy as np\n",
    "import tensorflow as tf\n",
    "from datetime import datetime\n",
    "\n",
    "df = pd.read_csv(\"/Users/aleksandr/Desktop/Meta_Test.csv\")\n",
    "df = df.dropna()"
   ]
  },
  {
   "cell_type": "markdown",
   "metadata": {},
   "source": [
    "### Initial cleaning"
   ]
  },
  {
   "cell_type": "code",
   "execution_count": 2,
   "metadata": {},
   "outputs": [
    {
     "name": "stdout",
     "output_type": "stream",
     "text": [
      "Starting preprocessing with 570771 rows\n",
      "After filtering trading hours: 282810 rows\n",
      "After cleaning outliers: 282301 rows\n",
      "Final clean dataset: 278585 rows\n",
      "\n",
      "Outlier counts by detection method:\n",
      "  zscore: 64\n",
      "  extreme_deviation: 69\n",
      "  isolated_point: 390\n",
      "  price_reversal: 93\n",
      "  timestamp_group: 34\n",
      "  price_velocity: 3703\n",
      "  suspicious_cluster: 52\n",
      "  wavelet_outlier: 24\n"
     ]
    }
   ],
   "source": [
    "from clean import preprocess_tick_data\n",
    "\n",
    "df_clean, df_diagnostics, outlier_counter = preprocess_tick_data(df)\n",
    "df = df_clean\n",
    "df = df.drop(columns=\"VOLATILITY\")"
   ]
  },
  {
   "cell_type": "markdown",
   "metadata": {},
   "source": [
    "### Volatility estimation"
   ]
  },
  {
   "cell_type": "code",
   "execution_count": 3,
   "metadata": {},
   "outputs": [
    {
     "name": "stdout",
     "output_type": "stream",
     "text": [
      "Estimating advanced tick-level volatility for 278585 ticks...\n",
      "Computing wavelet-based volatility for META.O...\n",
      "Completed advanced tick-level volatility estimation\n"
     ]
    }
   ],
   "source": [
    "from volatility import estimate_tick_volatility\n",
    "\n",
    "df = estimate_tick_volatility(df, method = 'wavelet')"
   ]
  },
  {
   "cell_type": "code",
   "execution_count": 4,
   "metadata": {},
   "outputs": [
    {
     "data": {
      "text/html": [
       "<div>\n",
       "<style scoped>\n",
       "    .dataframe tbody tr th:only-of-type {\n",
       "        vertical-align: middle;\n",
       "    }\n",
       "\n",
       "    .dataframe tbody tr th {\n",
       "        vertical-align: top;\n",
       "    }\n",
       "\n",
       "    .dataframe thead th {\n",
       "        text-align: right;\n",
       "    }\n",
       "</style>\n",
       "<table border=\"1\" class=\"dataframe\">\n",
       "  <thead>\n",
       "    <tr style=\"text-align: right;\">\n",
       "      <th></th>\n",
       "      <th>Timestamp</th>\n",
       "      <th>Value</th>\n",
       "      <th>Volume</th>\n",
       "      <th>Volatility</th>\n",
       "    </tr>\n",
       "  </thead>\n",
       "  <tbody>\n",
       "    <tr>\n",
       "      <th>0</th>\n",
       "      <td>2025-01-30 09:30:00.740000+00:00</td>\n",
       "      <td>694.24</td>\n",
       "      <td>13.0</td>\n",
       "      <td>0.000260</td>\n",
       "    </tr>\n",
       "    <tr>\n",
       "      <th>1</th>\n",
       "      <td>2025-01-30 09:30:00.740000+00:00</td>\n",
       "      <td>694.17</td>\n",
       "      <td>15.0</td>\n",
       "      <td>0.000260</td>\n",
       "    </tr>\n",
       "    <tr>\n",
       "      <th>2</th>\n",
       "      <td>2025-01-30 09:30:00.740000+00:00</td>\n",
       "      <td>694.17</td>\n",
       "      <td>15.0</td>\n",
       "      <td>0.000261</td>\n",
       "    </tr>\n",
       "    <tr>\n",
       "      <th>3</th>\n",
       "      <td>2025-01-30 09:30:00.740000+00:00</td>\n",
       "      <td>694.11</td>\n",
       "      <td>8.0</td>\n",
       "      <td>0.000261</td>\n",
       "    </tr>\n",
       "    <tr>\n",
       "      <th>4</th>\n",
       "      <td>2025-01-30 09:30:00.740000+00:00</td>\n",
       "      <td>694.10</td>\n",
       "      <td>249.0</td>\n",
       "      <td>0.000261</td>\n",
       "    </tr>\n",
       "  </tbody>\n",
       "</table>\n",
       "</div>"
      ],
      "text/plain": [
       "                         Timestamp   Value  Volume  Volatility\n",
       "0 2025-01-30 09:30:00.740000+00:00  694.24    13.0    0.000260\n",
       "1 2025-01-30 09:30:00.740000+00:00  694.17    15.0    0.000260\n",
       "2 2025-01-30 09:30:00.740000+00:00  694.17    15.0    0.000261\n",
       "3 2025-01-30 09:30:00.740000+00:00  694.11     8.0    0.000261\n",
       "4 2025-01-30 09:30:00.740000+00:00  694.10   249.0    0.000261"
      ]
     },
     "execution_count": 4,
     "metadata": {},
     "output_type": "execute_result"
    }
   ],
   "source": [
    "df.drop(columns=['return', \"SYMBOL\"], inplace= True)\n",
    "df.rename(columns={'wavelet_vol' : 'Volatility', \n",
    "                  'TIMESTAMP':'Timestamp',\n",
    "                   'VALUE' : 'Value',\n",
    "                   'VOLUME' : 'Volume'}, inplace=True)\n",
    "df.head()"
   ]
  },
  {
   "cell_type": "code",
   "execution_count": 7,
   "metadata": {},
   "outputs": [],
   "source": [
    "t = df[:2000]"
   ]
  },
  {
   "cell_type": "code",
   "execution_count": 1,
   "metadata": {},
   "outputs": [],
   "source": [
    "import pandas as pd\n",
    "\n",
    "t = pd.read_csv(\"/Users/aleksandr/Desktop/my_data.csv\")"
   ]
  },
  {
   "cell_type": "code",
   "execution_count": 1,
   "metadata": {},
   "outputs": [
    {
     "name": "stderr",
     "output_type": "stream",
     "text": [
      "2025-04-07 01:48:50,886 - INFO - Initializing VolatilityFeatureTransformer...\n",
      "2025-04-07 01:48:50,887 - INFO - Context length: 50\n",
      "2025-04-07 01:48:50,887 - INFO - Model dimension (d_model): 128\n",
      "2025-04-07 01:48:50,887 - INFO - Number of heads: 8\n",
      "2025-04-07 01:48:50,887 - INFO - Number of encoder layers: 4\n",
      "2025-04-07 01:48:50,887 - INFO - Transformer config:\n",
      "2025-04-07 01:48:50,888 - INFO - Input size: 1\n",
      "2025-04-07 01:48:50,888 - INFO - d_model: 128\n",
      "2025-04-07 01:48:50,936 - INFO - \n",
      "=== Data Preparation Start ===\n",
      "2025-04-07 01:48:50,936 - INFO - Input DataFrame shape: (2000, 4)\n",
      "2025-04-07 01:48:50,936 - INFO - Input DataFrame columns: ['Timestamp', 'Value', 'Volume', 'Volatility']\n",
      "2025-04-07 01:48:51,074 - INFO - \n",
      "=== Feature Information ===\n",
      "2025-04-07 01:48:51,074 - INFO - Number of features extracted: 26\n",
      "2025-04-07 01:48:51,074 - INFO - Feature columns: ['price_change', 'log_return', 'time_delta', 'trade_direction', 'is_buy', 'tick_imbalance', 'jump_diffusion', 'jump_magnitude', 'jump_arrival', 'kyle_lambda', 'orderflow_imbalance', 'momentum_short', 'momentum_medium', 'momentum_long', 'price_range_short', 'price_range_medium', 'price_range_long', 'volatility_per_volume', 'bipower_var_short', 'bipower_var_medium', 'jump_ratio', 'bipower_var_long', 'staggered_bipower_var', 'min_bipower_var_10', 'min_bipower_var_30', 'min_bipower_var_50']\n",
      "2025-04-07 01:48:51,078 - INFO - Scaled features shape: (2000, 26)\n",
      "2025-04-07 01:48:51,093 - INFO - \n",
      "=== Tensor Shapes ===\n",
      "2025-04-07 01:48:51,093 - INFO - Features tensor shape: torch.Size([1951, 50, 26])\n",
      "2025-04-07 01:48:51,094 - INFO - Volatility tensor shape: torch.Size([1951, 1])\n",
      "2025-04-07 01:48:51,094 - INFO - \n",
      "=== Input Projection Layer ===\n",
      "2025-04-07 01:48:51,094 - INFO - Initializing projection: 26 -> 128\n",
      "2025-04-07 01:48:51,095 - INFO - \n",
      "=== Training Start ===\n",
      "2025-04-07 01:48:51,095 - INFO - Device: cpu\n",
      "2025-04-07 01:48:51,096 - INFO - Input features shape: torch.Size([1951, 50, 26])\n",
      "2025-04-07 01:48:51,096 - INFO - Input volatility shape: torch.Size([1951, 1])\n"
     ]
    },
    {
     "name": "stdout",
     "output_type": "stream",
     "text": [
      "Feature tensor shape: torch.Size([1951, 50, 26])\n",
      "Volatility tensor shape: torch.Size([1951, 1])\n"
     ]
    },
    {
     "name": "stderr",
     "output_type": "stream",
     "text": [
      "2025-04-07 01:49:10,258 - INFO - \n",
      "=== Epoch 1/10 Summary ===\n",
      "2025-04-07 01:49:10,259 - INFO - Average Loss: 1.129089\n",
      "2025-04-07 01:49:10,259 - INFO - Min Batch Loss: 0.011985\n",
      "2025-04-07 01:49:10,261 - INFO - Max Batch Loss: 3.207731\n",
      "2025-04-07 01:49:10,262 - INFO - Std Dev Loss: 0.890762\n",
      "2025-04-07 01:49:29,310 - INFO - \n",
      "=== Epoch 2/10 Summary ===\n",
      "2025-04-07 01:49:29,311 - INFO - Average Loss: 1.064486\n",
      "2025-04-07 01:49:29,311 - INFO - Min Batch Loss: 0.019321\n",
      "2025-04-07 01:49:29,312 - INFO - Max Batch Loss: 3.127303\n",
      "2025-04-07 01:49:29,312 - INFO - Std Dev Loss: 0.865999\n",
      "2025-04-07 01:49:48,568 - INFO - \n",
      "=== Epoch 3/10 Summary ===\n",
      "2025-04-07 01:49:48,569 - INFO - Average Loss: 1.040285\n",
      "2025-04-07 01:49:48,570 - INFO - Min Batch Loss: 0.019502\n",
      "2025-04-07 01:49:48,570 - INFO - Max Batch Loss: 3.090244\n",
      "2025-04-07 01:49:48,571 - INFO - Std Dev Loss: 0.850452\n",
      "2025-04-07 01:50:09,057 - INFO - \n",
      "=== Epoch 4/10 Summary ===\n",
      "2025-04-07 01:50:09,058 - INFO - Average Loss: 1.038447\n",
      "2025-04-07 01:50:09,058 - INFO - Min Batch Loss: 0.020424\n",
      "2025-04-07 01:50:09,059 - INFO - Max Batch Loss: 2.994071\n",
      "2025-04-07 01:50:09,060 - INFO - Std Dev Loss: 0.831376\n",
      "2025-04-07 01:50:30,900 - INFO - \n",
      "=== Epoch 5/10 Summary ===\n",
      "2025-04-07 01:50:30,902 - INFO - Average Loss: 1.043853\n",
      "2025-04-07 01:50:30,902 - INFO - Min Batch Loss: 0.017513\n",
      "2025-04-07 01:50:30,903 - INFO - Max Batch Loss: 3.173101\n",
      "2025-04-07 01:50:30,903 - INFO - Std Dev Loss: 0.875723\n",
      "2025-04-07 01:50:30,904 - INFO - \n",
      "=== Training Progress ===\n",
      "2025-04-07 01:50:30,904 - INFO - Completed 5/10 epochs\n",
      "2025-04-07 01:50:30,905 - INFO - Current Avg Loss: 1.043853\n",
      "2025-04-07 01:50:30,905 - INFO - Best Loss So Far: 1.038447\n",
      "2025-04-07 01:50:50,916 - INFO - \n",
      "=== Epoch 6/10 Summary ===\n",
      "2025-04-07 01:50:50,916 - INFO - Average Loss: 1.026620\n",
      "2025-04-07 01:50:50,917 - INFO - Min Batch Loss: 0.017160\n",
      "2025-04-07 01:50:50,917 - INFO - Max Batch Loss: 2.956769\n",
      "2025-04-07 01:50:50,918 - INFO - Std Dev Loss: 0.815962\n",
      "2025-04-07 01:51:10,582 - INFO - \n",
      "=== Epoch 7/10 Summary ===\n",
      "2025-04-07 01:51:10,583 - INFO - Average Loss: 1.008987\n",
      "2025-04-07 01:51:10,583 - INFO - Min Batch Loss: 0.014800\n",
      "2025-04-07 01:51:10,584 - INFO - Max Batch Loss: 2.952160\n",
      "2025-04-07 01:51:10,584 - INFO - Std Dev Loss: 0.811984\n",
      "2025-04-07 01:51:29,798 - INFO - \n",
      "=== Epoch 8/10 Summary ===\n",
      "2025-04-07 01:51:29,800 - INFO - Average Loss: 0.999079\n",
      "2025-04-07 01:51:29,800 - INFO - Min Batch Loss: 0.015565\n",
      "2025-04-07 01:51:29,801 - INFO - Max Batch Loss: 2.959660\n",
      "2025-04-07 01:51:29,802 - INFO - Std Dev Loss: 0.795582\n",
      "2025-04-07 01:51:49,734 - INFO - \n",
      "=== Epoch 9/10 Summary ===\n",
      "2025-04-07 01:51:49,735 - INFO - Average Loss: 0.998878\n",
      "2025-04-07 01:51:49,736 - INFO - Min Batch Loss: 0.015929\n",
      "2025-04-07 01:51:49,737 - INFO - Max Batch Loss: 3.062370\n",
      "2025-04-07 01:51:49,738 - INFO - Std Dev Loss: 0.803661\n",
      "2025-04-07 01:52:09,660 - INFO - \n",
      "=== Epoch 10/10 Summary ===\n",
      "2025-04-07 01:52:09,661 - INFO - Average Loss: 0.988973\n",
      "2025-04-07 01:52:09,662 - INFO - Min Batch Loss: 0.018911\n",
      "2025-04-07 01:52:09,663 - INFO - Max Batch Loss: 2.960552\n",
      "2025-04-07 01:52:09,664 - INFO - Std Dev Loss: 0.782856\n",
      "2025-04-07 01:52:09,666 - INFO - \n",
      "=== Training Progress ===\n",
      "2025-04-07 01:52:09,667 - INFO - Completed 10/10 epochs\n",
      "2025-04-07 01:52:09,667 - INFO - Current Avg Loss: 0.988973\n",
      "2025-04-07 01:52:09,668 - INFO - Best Loss So Far: 0.988973\n",
      "2025-04-07 01:52:09,669 - INFO - \n",
      "=== Training Complete ===\n",
      "2025-04-07 01:52:09,669 - INFO - Final Average Loss: 0.988973\n",
      "2025-04-07 01:52:09,670 - INFO - Best Loss Achieved: 0.988973\n"
     ]
    },
    {
     "name": "stdout",
     "output_type": "stream",
     "text": [
      "\n",
      "Extracted feature shape: (1951, 32)\n",
      "\n",
      "Feature Statistics:\n",
      "                0            1            2            3            4   \\\n",
      "count  1951.000000  1951.000000  1951.000000  1951.000000  1951.000000   \n",
      "mean     -0.360930    -0.297049     0.054054     0.407858    -0.152264   \n",
      "std       0.178175     0.167602     0.339746     0.281333     0.236324   \n",
      "min      -0.980967    -0.746818    -0.950620    -0.798142    -0.732960   \n",
      "25%      -0.463479    -0.417250    -0.100244     0.264574    -0.329449   \n",
      "50%      -0.389228    -0.326974     0.176970     0.458038    -0.163243   \n",
      "75%      -0.282185    -0.212338     0.298806     0.590614     0.015202   \n",
      "max       0.477165     0.349649     0.541864     1.183748     0.488788   \n",
      "\n",
      "                5            6            7            8            9   ...  \\\n",
      "count  1951.000000  1951.000000  1951.000000  1951.000000  1951.000000  ...   \n",
      "mean      0.163402    -0.235848    -0.029627     0.363024     0.054032  ...   \n",
      "std       0.506976     0.236444     0.237608     0.380192     0.315273  ...   \n",
      "min      -1.220566    -1.034605    -1.209165    -0.739687    -0.730304  ...   \n",
      "25%      -0.079206    -0.367834    -0.145291     0.111578    -0.203421  ...   \n",
      "50%       0.364011    -0.239706     0.010019     0.486843     0.042795  ...   \n",
      "75%       0.529617    -0.089299     0.138284     0.658645     0.291138  ...   \n",
      "max       0.972206     0.539573     0.502108     0.926017     0.796166  ...   \n",
      "\n",
      "                22           23           24           25           26  \\\n",
      "count  1951.000000  1951.000000  1951.000000  1951.000000  1951.000000   \n",
      "mean     -0.128278    -0.168868    -0.182112     0.020934     0.151845   \n",
      "std       0.240456     0.229815     0.201964     0.204779     0.372231   \n",
      "min      -0.614268    -1.145376    -0.911921    -0.386685    -0.847858   \n",
      "25%      -0.301634    -0.290645    -0.298728    -0.155672    -0.089768   \n",
      "50%      -0.183891    -0.169305    -0.137719     0.008739     0.065318   \n",
      "75%       0.006537    -0.025889    -0.033593     0.172479     0.326561   \n",
      "max       1.018965     0.481133     0.419846     0.751276     1.108454   \n",
      "\n",
      "                27           28           29           30           31  \n",
      "count  1951.000000  1951.000000  1951.000000  1951.000000  1951.000000  \n",
      "mean      0.676985    -0.278033    -0.171147    -0.158089     0.136740  \n",
      "std       0.306968     0.365101     0.273378     0.248998     0.391297  \n",
      "min      -0.330268    -0.965817    -0.810661    -0.956096    -0.843620  \n",
      "25%       0.472758    -0.577161    -0.354369    -0.316562    -0.172545  \n",
      "50%       0.769471    -0.354224    -0.248649    -0.203981     0.149316  \n",
      "75%       0.898098    -0.029839    -0.023504    -0.034333     0.399849  \n",
      "max       1.315883     0.661460     0.791997     0.621446     1.246839  \n",
      "\n",
      "[8 rows x 32 columns]\n"
     ]
    }
   ],
   "source": [
    "import pandas as pd\n",
    "import numpy as np\n",
    "from sklearn.manifold import TSNE\n",
    "import seaborn as sns\n",
    "from Feature_engineering.volatility_regime_model import VolatilityFeatureTransformer\n",
    "import torch\n",
    "\n",
    "t = pd.read_csv(\"/Users/aleksandr/Desktop/my_data.csv\")\n",
    "\n",
    "# Initialize the model with reasonable parameters for your data\n",
    "model = VolatilityFeatureTransformer(\n",
    "    d_model=128,         # Size of transformer embeddings\n",
    "    n_heads=8,           # Number of attention heads\n",
    "    n_encoder_layers=4,  # Number of transformer layers\n",
    "    dim_feedforward=512, # Size of feedforward network\n",
    "    dropout=0.1,         # Dropout rate\n",
    "    context_length=50,   # Look-back window size\n",
    "    latent_dim=32       # Size of final feature vector\n",
    ")\n",
    "\n",
    "# Prepare your data\n",
    "features, volatility = model.prepare_data(\n",
    "    df=t,  # Your dataframe\n",
    "    timestamp_col='Timestamp',\n",
    "    price_col='Value',\n",
    "    volume_col='Volume',\n",
    "    volatility_col='Volatility'\n",
    ")\n",
    "\n",
    "print(f\"Feature tensor shape: {features.shape}\")\n",
    "print(f\"Volatility tensor shape: {volatility.shape}\")\n",
    "\n",
    "# Train the model\n",
    "history = model.train(\n",
    "    train_features=features,\n",
    "    train_volatility=volatility,\n",
    "    num_epochs=10,\n",
    "    batch_size=32,\n",
    "    learning_rate=1e-4\n",
    ")\n",
    "\n",
    "# Extract learned features\n",
    "latent_features = model.extract_features(features)\n",
    "print(f\"\\nExtracted feature shape: {latent_features.shape}\")\n",
    "\n",
    "# Save model if needed\n",
    "#model.save_model('volatility_feature_model.pth')\n",
    "\n",
    "# Print feature statistics\n",
    "feature_df = pd.DataFrame(latent_features)\n",
    "print(\"\\nFeature Statistics:\")\n",
    "print(feature_df.describe())"
   ]
  },
  {
   "cell_type": "code",
   "execution_count": 3,
   "metadata": {},
   "outputs": [
    {
     "data": {
      "text/plain": [
       "(1951, 32)"
      ]
     },
     "execution_count": 3,
     "metadata": {},
     "output_type": "execute_result"
    }
   ],
   "source": [
    "feature_df.shape"
   ]
  },
  {
   "cell_type": "markdown",
   "metadata": {},
   "source": [
    "### Transformer - Encoder feature engine"
   ]
  }
 ],
 "metadata": {
  "kernelspec": {
   "display_name": "base",
   "language": "python",
   "name": "python3"
  },
  "language_info": {
   "codemirror_mode": {
    "name": "ipython",
    "version": 3
   },
   "file_extension": ".py",
   "mimetype": "text/x-python",
   "name": "python",
   "nbconvert_exporter": "python",
   "pygments_lexer": "ipython3",
   "version": "3.12.2"
  }
 },
 "nbformat": 4,
 "nbformat_minor": 2
}
