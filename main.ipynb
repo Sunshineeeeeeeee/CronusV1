{
 "cells": [
  {
   "cell_type": "markdown",
   "metadata": {},
   "source": [
    "### Load dataframe"
   ]
  },
  {
   "cell_type": "code",
   "execution_count": 1,
   "metadata": {},
   "outputs": [],
   "source": [
    "import pandas as pd\n",
    "\n",
    "df = pd.read_csv(\"/Users/aleksandr/Desktop/Meta_Test.csv\")\n",
    "df = df.dropna()"
   ]
  },
  {
   "cell_type": "markdown",
   "metadata": {},
   "source": [
    "### Initial cleaning"
   ]
  },
  {
   "cell_type": "code",
   "execution_count": 2,
   "metadata": {},
   "outputs": [
    {
     "name": "stdout",
     "output_type": "stream",
     "text": [
      "Starting preprocessing with 570771 rows\n",
      "After filtering trading hours: 282810 rows\n",
      "After cleaning outliers: 282301 rows\n",
      "Final clean dataset: 278585 rows\n",
      "\n",
      "Outlier counts by detection method:\n",
      "  zscore: 64\n",
      "  extreme_deviation: 69\n",
      "  isolated_point: 390\n",
      "  price_reversal: 93\n",
      "  timestamp_group: 34\n",
      "  price_velocity: 3703\n",
      "  suspicious_cluster: 52\n",
      "  wavelet_outlier: 24\n"
     ]
    }
   ],
   "source": [
    "from clean import preprocess_tick_data\n",
    "\n",
    "df_clean, df_diagnostics, outlier_counter = preprocess_tick_data(df)\n",
    "df = df_clean\n",
    "df = df.drop(columns=\"VOLATILITY\")"
   ]
  },
  {
   "cell_type": "markdown",
   "metadata": {},
   "source": [
    "### Volatility estimation"
   ]
  },
  {
   "cell_type": "code",
   "execution_count": 3,
   "metadata": {},
   "outputs": [
    {
     "name": "stdout",
     "output_type": "stream",
     "text": [
      "Estimating advanced tick-level volatility for 278585 ticks...\n",
      "Processing 278585 ticks...\n",
      "Completed volatility estimation for 278585 ticks\n",
      "Completed advanced tick-level volatility estimation\n"
     ]
    }
   ],
   "source": [
    "from volatility_v1 import estimate_advanced_volatility\n",
    "\n",
    "df = estimate_advanced_volatility(df)"
   ]
  },
  {
   "cell_type": "code",
   "execution_count": 5,
   "metadata": {},
   "outputs": [
    {
     "data": {
      "text/html": [
       "<div>\n",
       "<style scoped>\n",
       "    .dataframe tbody tr th:only-of-type {\n",
       "        vertical-align: middle;\n",
       "    }\n",
       "\n",
       "    .dataframe tbody tr th {\n",
       "        vertical-align: top;\n",
       "    }\n",
       "\n",
       "    .dataframe thead th {\n",
       "        text-align: right;\n",
       "    }\n",
       "</style>\n",
       "<table border=\"1\" class=\"dataframe\">\n",
       "  <thead>\n",
       "    <tr style=\"text-align: right;\">\n",
       "      <th></th>\n",
       "      <th>Timestamp</th>\n",
       "      <th>Value</th>\n",
       "      <th>Volume</th>\n",
       "      <th>Volatility</th>\n",
       "    </tr>\n",
       "  </thead>\n",
       "  <tbody>\n",
       "    <tr>\n",
       "      <th>0</th>\n",
       "      <td>2025-01-30 09:30:00.740000+00:00</td>\n",
       "      <td>694.24</td>\n",
       "      <td>13.0</td>\n",
       "      <td>9.214653e-17</td>\n",
       "    </tr>\n",
       "    <tr>\n",
       "      <th>1</th>\n",
       "      <td>2025-01-30 09:30:00.740000+00:00</td>\n",
       "      <td>694.17</td>\n",
       "      <td>15.0</td>\n",
       "      <td>2.056060e-03</td>\n",
       "    </tr>\n",
       "    <tr>\n",
       "      <th>2</th>\n",
       "      <td>2025-01-30 09:30:00.740000+00:00</td>\n",
       "      <td>694.17</td>\n",
       "      <td>15.0</td>\n",
       "      <td>3.217889e-03</td>\n",
       "    </tr>\n",
       "    <tr>\n",
       "      <th>3</th>\n",
       "      <td>2025-01-30 09:30:00.740000+00:00</td>\n",
       "      <td>694.11</td>\n",
       "      <td>8.0</td>\n",
       "      <td>2.402309e-03</td>\n",
       "    </tr>\n",
       "    <tr>\n",
       "      <th>4</th>\n",
       "      <td>2025-01-30 09:30:00.740000+00:00</td>\n",
       "      <td>694.10</td>\n",
       "      <td>249.0</td>\n",
       "      <td>3.357669e-03</td>\n",
       "    </tr>\n",
       "  </tbody>\n",
       "</table>\n",
       "</div>"
      ],
      "text/plain": [
       "                         Timestamp   Value  Volume    Volatility\n",
       "0 2025-01-30 09:30:00.740000+00:00  694.24    13.0  9.214653e-17\n",
       "1 2025-01-30 09:30:00.740000+00:00  694.17    15.0  2.056060e-03\n",
       "2 2025-01-30 09:30:00.740000+00:00  694.17    15.0  3.217889e-03\n",
       "3 2025-01-30 09:30:00.740000+00:00  694.11     8.0  2.402309e-03\n",
       "4 2025-01-30 09:30:00.740000+00:00  694.10   249.0  3.357669e-03"
      ]
     },
     "execution_count": 5,
     "metadata": {},
     "output_type": "execute_result"
    }
   ],
   "source": [
    "df.drop(columns=['return', \"SYMBOL\", \"emd_vol\", \"sv_vol\", 'log_price', 'smooth_vol', 'raw_vol'], inplace= True)\n",
    "df.rename(columns={'filtered_vol' : 'Volatility', \n",
    "                  'TIMESTAMP':'Timestamp',\n",
    "                   'VALUE' : 'Value',\n",
    "                   'VOLUME' : 'Volume'}, inplace=True)\n",
    "df.head()"
   ]
  },
  {
   "cell_type": "markdown",
   "metadata": {},
   "source": [
    "### Encoder Only Transformer Feature engine"
   ]
  },
  {
   "cell_type": "code",
   "execution_count": null,
   "metadata": {},
   "outputs": [
    {
     "name": "stdout",
     "output_type": "stream",
     "text": [
      "Model will be trained and saved to: /Users/aleksandr/code/scripts/CronusV1/Feature_engineering/saved_models\n",
      "Using causal mode. (Suitable for real-time applications)\n",
      "Setting up feature extractor...\n",
      "Extracting microstructure features...\n",
      "Skip outlier clipping for Volatility: 596\n",
      "Skip outlier clipping for price_change: 596\n",
      "Skip outlier clipping for log_return: 596\n",
      "Skip outlier clipping for time_delta: 596\n",
      "Skip outlier clipping for trade_direction: 596\n",
      "Skip outlier clipping for is_buy: 596\n",
      "Skip outlier clipping for tick_imbalance: 596\n",
      "Skip outlier clipping for jump_diffusion: 596\n",
      "Skip outlier clipping for jump_magnitude: 596\n",
      "Skip outlier clipping for jump_arrival: 596\n",
      "Skip outlier clipping for kyle_lambda: 596\n",
      "Skip outlier clipping for orderflow_imbalance: 596\n",
      "Skip outlier clipping for momentum_short: 596\n",
      "Skip outlier clipping for momentum_medium: 596\n",
      "Skip outlier clipping for momentum_long: 596\n",
      "Skip outlier clipping for price_range_short: 596\n",
      "Skip outlier clipping for price_range_medium: 596\n",
      "Skip outlier clipping for price_range_long: 596\n",
      "Skip outlier clipping for volatility_per_volume: 596\n",
      "Skip outlier clipping for bipower_var_short: 596\n",
      "Skip outlier clipping for bipower_var_medium: 596\n",
      "Skip outlier clipping for jump_ratio: 596\n",
      "Skip outlier clipping for bipower_var_long: 596\n",
      "Skip outlier clipping for staggered_bipower_var: 596\n",
      "Skip outlier clipping for min_bipower_var_10: 596\n",
      "Skip outlier clipping for min_bipower_var_30: 596\n",
      "Skip outlier clipping for min_bipower_var_50: 596\n",
      "Extracted 20 microstructure features\n",
      "Preparing data tensors...\n",
      "Skip outlier clipping for Volatility: 596\n",
      "Skip outlier clipping for price_change: 596\n",
      "Skip outlier clipping for log_return: 596\n",
      "Skip outlier clipping for time_delta: 596\n",
      "Skip outlier clipping for trade_direction: 596\n",
      "Skip outlier clipping for is_buy: 596\n",
      "Skip outlier clipping for tick_imbalance: 596\n",
      "Skip outlier clipping for jump_diffusion: 596\n",
      "Skip outlier clipping for jump_magnitude: 596\n",
      "Skip outlier clipping for jump_arrival: 596\n",
      "Skip outlier clipping for kyle_lambda: 596\n",
      "Skip outlier clipping for orderflow_imbalance: 596\n",
      "Skip outlier clipping for momentum_short: 596\n",
      "Skip outlier clipping for momentum_medium: 596\n",
      "Skip outlier clipping for momentum_long: 596\n",
      "Skip outlier clipping for price_range_short: 596\n",
      "Skip outlier clipping for price_range_medium: 596\n",
      "Skip outlier clipping for price_range_long: 596\n",
      "Skip outlier clipping for volatility_per_volume: 596\n",
      "Skip outlier clipping for bipower_var_short: 596\n",
      "Skip outlier clipping for bipower_var_medium: 596\n",
      "Skip outlier clipping for jump_ratio: 596\n",
      "Skip outlier clipping for bipower_var_long: 596\n",
      "Skip outlier clipping for staggered_bipower_var: 596\n",
      "Skip outlier clipping for min_bipower_var_10: 596\n",
      "Skip outlier clipping for min_bipower_var_30: 596\n",
      "Skip outlier clipping for min_bipower_var_50: 596\n",
      "Data shapes - Values: torch.Size([9951, 50, 20]), Time: torch.Size([9951, 50, 8])\n",
      "Training new model...\n",
      "Model created with 546000 parameters\n"
     ]
    }
   ],
   "source": [
    "import os\n",
    "import pandas as pd\n",
    "from datetime import datetime\n",
    "from Feature_engineering.feature_model_v1 import process_market_data\n",
    "\n",
    "# Set up paths and configuration\n",
    "df = df[:10000]\n",
    "model_dir = '/Users/aleksandr/code/scripts/CronusV1/Feature_engineering/saved_models'\n",
    "\n",
    "# Process data with the model \n",
    "features_df, model = process_market_data(\n",
    "    df=df,\n",
    "    model_dir=model_dir,\n",
    "    retrain=True,\n",
    "    num_epochs=10,\n",
    "    context_length=50,\n",
    "    num_attention_heads=8,\n",
    "    num_encoder_layers=4,\n",
    "    causal=True,\n",
    "    temperature=0.5,\n",
    "    grad_clip_norm=1.0\n",
    ")\n",
    "\n",
    "print(f\"\\nProcess completed successfully!\")"
   ]
  },
  {
   "cell_type": "code",
   "execution_count": 9,
   "metadata": {},
   "outputs": [
    {
     "data": {
      "text/plain": [
       "(481, 20)"
      ]
     },
     "execution_count": 9,
     "metadata": {},
     "output_type": "execute_result"
    }
   ],
   "source": [
    "df = features_df\n",
    "df.shape"
   ]
  }
 ],
 "metadata": {
  "kernelspec": {
   "display_name": "base",
   "language": "python",
   "name": "python3"
  },
  "language_info": {
   "codemirror_mode": {
    "name": "ipython",
    "version": 3
   },
   "file_extension": ".py",
   "mimetype": "text/x-python",
   "name": "python",
   "nbconvert_exporter": "python",
   "pygments_lexer": "ipython3",
   "version": "3.12.2"
  }
 },
 "nbformat": 4,
 "nbformat_minor": 2
}
